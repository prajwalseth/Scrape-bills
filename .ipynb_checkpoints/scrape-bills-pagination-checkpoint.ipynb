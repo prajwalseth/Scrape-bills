{
 "cells": [
  {
   "cell_type": "code",
   "execution_count": 164,
   "metadata": {},
   "outputs": [],
   "source": [
    "from selenium import webdriver\n",
    "from selenium.webdriver.common.keys import Keys\n",
    "from selenium.webdriver.support.ui import Select\n",
    "from selenium.webdriver.common.by import By\n",
    "from selenium.webdriver.support.ui import WebDriverWait\n",
    "from selenium.webdriver.support import expected_conditions as EC\n",
    "import time \n",
    "\n",
    "driver = webdriver.Firefox()\n",
    "driver.implicitly_wait(5)\n",
    "driver.get(\"http://164.100.47.194/Loksabha/Legislation/billsassented.aspx\")\n",
    "bothhouses = driver.find_element_by_id('ContentPlaceHolder1_RadioBttnhouse_0')\n",
    "bothhouses.click()\n",
    "select_element1 = Select(driver.find_element_by_id('ContentPlaceHolder1_ddlMinistry'))\n",
    "select_element2 = Select(driver.find_element_by_id('ContentPlaceHolder1_ddlCategory'))\n",
    "# select by option index\n",
    "#select_element1.select_by_index(1)\n",
    "#select_element2.select_by_index(1)\n",
    "ministries_list = [i.text for i in select_element1.options]\n",
    "categories_list = [i.text for i in select_element2.options]\n",
    "billtype_all = driver.find_element_by_id('ContentPlaceHolder1_RadioBttnbilltyp_0')\n",
    "billtype_all.click()\n",
    "def submit():\n",
    "    btnsubmit = driver.find_element_by_id('ContentPlaceHolder1_btnsbmt')\n",
    "    btnsubmit.click()\n",
    "submit()"
   ]
  },
  {
   "cell_type": "code",
   "execution_count": 153,
   "metadata": {},
   "outputs": [],
   "source": []
  },
  {
   "cell_type": "code",
   "execution_count": 154,
   "metadata": {
    "scrolled": true
   },
   "outputs": [],
   "source": [
    "select_element1 = Select(driver.find_element_by_id('ContentPlaceHolder1_ddlMinistry'))\n",
    "select_element2 = Select(driver.find_element_by_id('ContentPlaceHolder1_ddlCategory'))\n",
    "# select by option index\n",
    "#select_element1.select_by_index(1)\n",
    "#select_element2.select_by_index(1)"
   ]
  },
  {
   "cell_type": "code",
   "execution_count": 155,
   "metadata": {
    "scrolled": true
   },
   "outputs": [],
   "source": [
    "ministries_list = [i.text for i in select_element1.options]\n",
    "categories_list = [i.text for i in select_element2.options]\n",
    "\n",
    "#print(ministries_list)"
   ]
  },
  {
   "cell_type": "code",
   "execution_count": 165,
   "metadata": {},
   "outputs": [],
   "source": [
    "def scrapePage(ministry_integer, category_integer):\n",
    "    for i in range(0, 5):\n",
    "        dataframe = {}\n",
    "        row = str(3+i)\n",
    "        print(\"Scraping row\", i+1)\n",
    "        dataframe[\"ministry\"] = ministries_list[ministry_integer]\n",
    "        dataframe[\"bill_status\"] = 'Assented'\n",
    "        dataframe[\"bill_category\"] = categories_list[category_integer]\n",
    "        dataframe[\"year\"] = driver.find_element_by_xpath('//*[@id=\"ContentPlaceHolder1_GR1\"]/tbody/tr['+row+']/td[1]').text\n",
    "        try:\n",
    "            dataframe[\"billno\"] = driver.find_element_by_xpath('//*[@id=\"ContentPlaceHolder1_GR1\"]/tbody/tr['+row+']/td[2]').text\n",
    "        except:\n",
    "            dataframe[\"billno\"] = ''\n",
    "        dataframe[\"title\"] = driver.find_element_by_xpath('//*[@id=\"ContentPlaceHolder1_GR1\"]/tbody/tr['+row+']/td[3]/a[1]').text\n",
    "        \n",
    "        try:\n",
    "            dataframe[driver.find_element_by_xpath('//*[@id=\"ContentPlaceHolder1_GR1\"]/tbody/tr['+row+']/td[3]/a[2]').text] = driver.find_element_by_xpath('//*[@id=\"ContentPlaceHolder1_GR1\"]/tbody/tr['+row+']/td[3]/a[2]').get_attribute('href')\n",
    "        except: \n",
    "            pass\n",
    "        try:\n",
    "            dataframe[driver.find_element_by_xpath('//*[@id=\"ContentPlaceHolder1_GR1\"]/tbody/tr['+row+']/td[3]/a[3]').text] = driver.find_element_by_xpath('//*[@id=\"ContentPlaceHolder1_GR1\"]/tbody/tr['+row+']/td[3]/a[3]').get_attribute('href')\n",
    "        except: \n",
    "            pass\n",
    "        try:\n",
    "            dataframe[driver.find_element_by_xpath('//*[@id=\"ContentPlaceHolder1_GR1\"]/tbody/tr['+row+']/td[3]/a[4]').text] = driver.find_element_by_xpath('//*[@id=\"ContentPlaceHolder1_GR1\"]/tbody/tr['+row+']/td[3]/a[4]').get_attribute('href')\n",
    "        except: \n",
    "            pass\n",
    "        \n",
    "        try:\n",
    "            dataframe[\"bill_type\"] = driver.find_element_by_xpath('//*[@id=\"ContentPlaceHolder1_GR1\"]/tbody/tr[3]/td[4]').text\n",
    "        except:\n",
    "            dataframe[\"bill_type\"] = ''\n",
    "        try: \n",
    "            dataframe[\"date_of_introduction\"] = driver.find_element_by_xpath('//*[@id=\"ContentPlaceHolder1_GR1_intro_0\"]').text\n",
    "        except:\n",
    "            dataframe[\"date_of_introduction\"] = ''\n",
    "        try:\n",
    "            dataframe[\"house_of_introduction\"] = driver.find_element_by_xpath('//*[@id=\"ContentPlaceHolder1_GR1_house_0\"]').text\n",
    "        except:\n",
    "            dataframe[\"house_of_introduction\"] = ''\n",
    "        try:\n",
    "            dataframe[\"passed_in_LS\"] = driver.find_element_by_xpath('//*[@id=\"ContentPlaceHolder1_GR1\"]/tbody/tr['+row+']/td[5+2]').text\n",
    "        except:\n",
    "            dataframe[\"passed_in_LS\"] = ''\n",
    "        try:\n",
    "            dataframe[\"passed_in_LS_link\"] = driver.find_element_by_xpath('//*[@id=\"ContentPlaceHolder1_GR1\"]/tbody/tr['+row+']/td[5+2]/a[2]').get_attribute('href')\n",
    "        except:\n",
    "            dataframe[\"passed_in_LS_link\"] = ''\n",
    "        dataframe[\"passed_in_RS\"] = driver.find_element_by_xpath('//*[@id=\"ContentPlaceHolder1_GR1\"]/tbody/tr['+row+']/td[6+2]').text\n",
    "        try:\n",
    "            dataframe[\"referred_to_committee_date\"] = driver.find_element_by_xpath('//*[@id=\"ContentPlaceHolder1_GR1_comdt_0\"]').text\n",
    "        except:\n",
    "            dataframe[\"referred_to_committee_date\"] = ''\n",
    "        try:\n",
    "            dataframe[\"report_presented_date\"] = driver.find_element_by_xpath('//*[@id=\"ContentPlaceHolder1_GR1_HyperLink1_0\"]').text\n",
    "        except:\n",
    "            dataframe[\"report_presented_date\"]  = ''\n",
    "        try:\n",
    "            dataframe[\"report_presented_link\"] = driver.find_element_by_xpath('//*[@id=\"ContentPlaceHolder1_GR1_HyperLink1_0\"]').get_attribute('href')\n",
    "        except:\n",
    "            dataframe[\"report_presented_link\"] = ''\n",
    "        try:\n",
    "            dataframe[\"assent_date\"] = driver.find_element_by_xpath('//*[@id=\"ContentPlaceHolder1_GR1\"]/tbody/tr['+row+']/td[8+2]').text.splitlines()[0]\n",
    "        except:\n",
    "            dataframe[\"assent_date\"] = ''\n",
    "        try:\n",
    "            dataframe[\"gazette_notification\"] = driver.find_element_by_xpath('//*[@id=\"ContentPlaceHolder1_GR1\"]/tbody/tr['+row+']/td[8+2]').text.splitlines()[1]\n",
    "        except:\n",
    "            dataframe[\"gazette_notification\"] = ''\n",
    "        try:\n",
    "            dataframe[\"gazette_notification_link\"] = driver.find_element_by_xpath('//*[@id=\"ContentPlaceHolder1_GR1\"]/tbody/tr['+row+']/td[8+2]/a[2]').get_attribute('href')\n",
    "        except:\n",
    "            dataframe[\"gazette_notification_link\"] = ''\n",
    "        try:\n",
    "            dataframe[\"act_no\"] = driver.find_element_by_xpath('//*[@id=\"ContentPlaceHolder1_GR1\"]/tbody/tr['+row+']/td[8+2]/a[3]')\n",
    "        except:\n",
    "            dataframe[\"act_no\"] = ''\n",
    "        synopsis_test = driver.find_element_by_xpath('//*[@id=\"ContentPlaceHolder1_GR1\"]/tbody/tr['+row+']/td[9+2]/a').get_attribute('href')\n",
    "        if synopsis_test!='http://164.100.47.133/BillsPDFFiles/synopsis/':\n",
    "            dataframe[\"synopsis\"] = synopsis_test\n",
    "        else:\n",
    "            dataframe[\"synopsis\"] = ''\n",
    "        list_bills.append(dataframe)\n",
    "\n",
    "#scrape()"
   ]
  },
  {
   "cell_type": "code",
   "execution_count": 166,
   "metadata": {},
   "outputs": [],
   "source": [
    "def submit():\n",
    "    btnsubmit = driver.find_element_by_id('ContentPlaceHolder1_btnsbmt')\n",
    "    btnsubmit.click()"
   ]
  },
  {
   "cell_type": "code",
   "execution_count": 158,
   "metadata": {},
   "outputs": [],
   "source": [
    "billtype_all = driver.find_element_by_id('ContentPlaceHolder1_RadioBttnbilltyp_0')\n",
    "billtype_all.click()"
   ]
  },
  {
   "cell_type": "code",
   "execution_count": 167,
   "metadata": {
    "scrolled": true
   },
   "outputs": [],
   "source": [
    "def paginate(ministry_integer, category_integer):\n",
    "    import math\n",
    "    total_bills = driver.find_element_by_xpath('//*[@id=\"ContentPlaceHolder1_Label4\"]').text\n",
    "    last_page = math.ceil(int(total_bills)/5)\n",
    "    print(\"Last page is\", last_page)\n",
    "    page_start_number = 1\n",
    "    #print(page_start_number)\n",
    "    i=1\n",
    "    next=0\n",
    "    while (next<last_page):\n",
    "        next = int(page_start_number)+i\n",
    "        print(\"Current page is\", next-1)\n",
    "        print(\"Next page is\", next)\n",
    "        if ((next-1)%10==0 and next>1):\n",
    "            click_on_next = driver.find_element_by_link_text(\"Next\")\n",
    "            click_on_next.click()\n",
    "            driver.implicitly_wait(5)\n",
    "            page_next = driver.find_element_by_link_text(str(next+1))\n",
    "            page_next_number = page_next.text\n",
    "            #print(page_next_number)\n",
    "            scrapePage(ministry_integer, category_integer)\n",
    "            page_next.click()\n",
    "            i+=2\n",
    "        else:\n",
    "            page_next = driver.find_element_by_link_text(str(next))\n",
    "            page_next_number = page_next.text\n",
    "            #print(page_next_number)\n",
    "            scrapePage(ministry_integer, category_integer)\n",
    "            page_next.click()\n",
    "            i+=1\n",
    "    print(\"Finished!\")\n",
    "#paginate()"
   ]
  },
  {
   "cell_type": "code",
   "execution_count": 161,
   "metadata": {},
   "outputs": [],
   "source": [
    "submit()"
   ]
  },
  {
   "cell_type": "code",
   "execution_count": 171,
   "metadata": {},
   "outputs": [],
   "source": [
    "select_element1 = Select(driver.find_element_by_id('ContentPlaceHolder1_ddlMinistry'))\n",
    "select_element2 = Select(driver.find_element_by_id('ContentPlaceHolder1_ddlCategory'))\n"
   ]
  },
  {
   "cell_type": "code",
   "execution_count": null,
   "metadata": {
    "scrolled": false
   },
   "outputs": [
    {
     "name": "stdout",
     "output_type": "stream",
     "text": [
      "Last page is 8\n",
      "Next page is 2\n",
      "2\n",
      "1\n",
      "2\n",
      "3\n",
      "4\n",
      "5\n",
      "Next page is 3\n",
      "3\n",
      "1\n",
      "2\n",
      "3\n",
      "4\n",
      "5\n",
      "Next page is 4\n",
      "4\n",
      "1\n",
      "2\n",
      "3\n",
      "4\n",
      "5\n",
      "Next page is 5\n",
      "5\n",
      "1\n"
     ]
    }
   ],
   "source": [
    "#for i in range(1, len(ministries_list)):\n",
    "for i in range(1,2):\n",
    "    select_element1.select_by_index(i)\n",
    "    \n",
    "    #for j in range(1, len(categories_list)):\n",
    "    for j in range(1,2):\n",
    "        select_element2.select_by_index(j)\n",
    "        submit()\n",
    "        paginate(i, j)\n",
    "    "
   ]
  },
  {
   "cell_type": "code",
   "execution_count": null,
   "metadata": {},
   "outputs": [],
   "source": []
  }
 ],
 "metadata": {
  "kernelspec": {
   "display_name": "Python 3",
   "language": "python",
   "name": "python3"
  },
  "language_info": {
   "codemirror_mode": {
    "name": "ipython",
    "version": 3
   },
   "file_extension": ".py",
   "mimetype": "text/x-python",
   "name": "python",
   "nbconvert_exporter": "python",
   "pygments_lexer": "ipython3",
   "version": "3.6.5"
  }
 },
 "nbformat": 4,
 "nbformat_minor": 2
}
