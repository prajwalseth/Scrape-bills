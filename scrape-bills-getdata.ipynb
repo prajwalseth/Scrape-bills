{
 "cells": [
  {
   "cell_type": "code",
   "execution_count": 29,
   "metadata": {},
   "outputs": [],
   "source": [
    "from selenium import webdriver\n",
    "from selenium.webdriver.common.keys import Keys\n",
    "from selenium.webdriver.support.ui import Select\n",
    "from selenium.webdriver.common.by import By\n",
    "from selenium.webdriver.support.ui import WebDriverWait\n",
    "from selenium.webdriver.support import expected_conditions as EC\n",
    "import time \n",
    "\n",
    "driver = webdriver.Firefox()\n",
    "driver.implicitly_wait(5)\n",
    "driver.get(\"http://164.100.47.194/Loksabha/Legislation/NewAdvsearch.aspx/\")"
   ]
  },
  {
   "cell_type": "code",
   "execution_count": 30,
   "metadata": {},
   "outputs": [],
   "source": [
    "bothhouses = driver.find_element_by_id('ContentPlaceHolder1_RadioBttnhouse_0')\n",
    "bothhouses.click()"
   ]
  },
  {
   "cell_type": "code",
   "execution_count": 75,
   "metadata": {},
   "outputs": [],
   "source": [
    "billtype1 = driver.find_element_by_id('ContentPlaceHolder1_RadioBttnbilltyp_1')\n",
    "billtype2 = driver.find_element_by_id('ContentPlaceHolder1_RadioBttnbilltyp_2')"
   ]
  },
  {
   "cell_type": "code",
   "execution_count": 32,
   "metadata": {
    "scrolled": true
   },
   "outputs": [],
   "source": [
    "billtype1.click()"
   ]
  },
  {
   "cell_type": "code",
   "execution_count": 138,
   "metadata": {},
   "outputs": [],
   "source": [
    "ministry = driver.find_element_by_id('ContentPlaceHolder1_ddlMinistry')\n",
    "bill_category = driver.find_element_by_id('ContentPlaceHolder1_ddlCategory')"
   ]
  },
  {
   "cell_type": "code",
   "execution_count": 139,
   "metadata": {
    "scrolled": true
   },
   "outputs": [],
   "source": [
    "select_element1 = Select(driver.find_element_by_id('ContentPlaceHolder1_ddlMinistry'))\n",
    "select_element2 = Select(driver.find_element_by_id('ContentPlaceHolder1_ddlCategory'))\n",
    "# select by option index\n",
    "select_element1.select_by_index(1)\n",
    "select_element2.select_by_index(1)"
   ]
  },
  {
   "cell_type": "code",
   "execution_count": 140,
   "metadata": {
    "scrolled": true
   },
   "outputs": [],
   "source": [
    "ministries_list = [i.text for i in select_element1.options]\n",
    "categories_list = [i.text for i in select_element2.options]\n",
    "\n",
    "#print(ministries_list)"
   ]
  },
  {
   "cell_type": "code",
   "execution_count": 142,
   "metadata": {},
   "outputs": [],
   "source": [
    "bill_status_list = [\"Assented\", \"Passed\", \"Pending\", \"Withdrawn\", \"Negatived\", \"Lapsed\"]"
   ]
  },
  {
   "cell_type": "code",
   "execution_count": 156,
   "metadata": {},
   "outputs": [
    {
     "data": {
      "text/plain": [
       "'Ordinary Bill'"
      ]
     },
     "execution_count": 156,
     "metadata": {},
     "output_type": "execute_result"
    }
   ],
   "source": [
    "categories_list[1]"
   ]
  },
  {
   "cell_type": "code",
   "execution_count": 141,
   "metadata": {},
   "outputs": [],
   "source": [
    "submit = driver.find_element_by_id('ContentPlaceHolder1_btnsbmt')\n",
    "submit.click()"
   ]
  },
  {
   "cell_type": "code",
   "execution_count": 194,
   "metadata": {},
   "outputs": [
    {
     "name": "stdout",
     "output_type": "stream",
     "text": [
      "3\n",
      "4\n",
      "5\n",
      "6\n",
      "7\n"
     ]
    }
   ],
   "source": [
    "list_bills = []\n",
    "\n",
    "def scrape():\n",
    "    for i in range(0, 5):\n",
    "        dataframe = {}\n",
    "        row = str(3+i)\n",
    "        print(row)\n",
    "        dataframe[\"ministry\"] = ministries_list[1]\n",
    "        dataframe[\"bill_status\"] = bill_status_list[0]\n",
    "        dataframe[\"bill_category\"] = categories_list[1]\n",
    "        dataframe[\"year\"] = driver.find_element_by_xpath('//*[@id=\"ContentPlaceHolder1_GR1\"]/tbody/tr['+row+']/td[1]').text\n",
    "        try:\n",
    "            dataframe[\"billno\"] = driver.find_element_by_xpath('//*[@id=\"ContentPlaceHolder1_GR1\"]/tbody/tr['+row+']/td[2]').text\n",
    "        except:\n",
    "            dataframe[\"billno\"] = ''\n",
    "        dataframe[\"title\"] = driver.find_element_by_xpath('//*[@id=\"ContentPlaceHolder1_GR1\"]/tbody/tr['+row+']/td[3]/a[1]').text\n",
    "        list_bills.append(dataframe)\n",
    "        \n",
    "        try:\n",
    "            dataframe[driver.find_element_by_xpath('//*[@id=\"ContentPlaceHolder1_GR1\"]/tbody/tr['+row+']/td[3]/a[2]').text] = driver.find_element_by_xpath('//*[@id=\"ContentPlaceHolder1_GR1\"]/tbody/tr['+row+']/td[3]/a[2]').get_attribute('href')\n",
    "        except: \n",
    "            pass\n",
    "        try:\n",
    "            dataframe[driver.find_element_by_xpath('//*[@id=\"ContentPlaceHolder1_GR1\"]/tbody/tr['+row+']/td[3]/a[3]').text] = driver.find_element_by_xpath('//*[@id=\"ContentPlaceHolder1_GR1\"]/tbody/tr['+row+']/td[3]/a[3]').get_attribute('href')\n",
    "        except: \n",
    "            pass\n",
    "        try:\n",
    "            dataframe[driver.find_element_by_xpath('//*[@id=\"ContentPlaceHolder1_GR1\"]/tbody/tr['+row+']/td[3]/a[4]').text] = driver.find_element_by_xpath('//*[@id=\"ContentPlaceHolder1_GR1\"]/tbody/tr['+row+']/td[3]/a[4]').get_attribute('href')\n",
    "        except: \n",
    "            pass\n",
    "        \n",
    "        try: \n",
    "            dataframe[\"date_of_introduction\"] = driver.find_element_by_xpath('//*[@id=\"ContentPlaceHolder1_GR1_intro_0\"]').text\n",
    "        except:\n",
    "            dataframe[\"date_of_introduction\"] = ''\n",
    "        try:\n",
    "            dataframe[\"house_of_introduction\"] = driver.find_element_by_xpath('//*[@id=\"ContentPlaceHolder1_GR1_house_0\"]').text\n",
    "        except:\n",
    "            dataframe[\"house_of_introduction\"] = ''\n",
    "        try:\n",
    "            dataframe[\"passed_in_LS\"] = driver.find_element_by_xpath('//*[@id=\"ContentPlaceHolder1_GR1\"]/tbody/tr['+row+']/td[5]').text\n",
    "        except:\n",
    "            dataframe[\"passed_in_LS\"] = ''\n",
    "        try:\n",
    "            dataframe[\"passed_in_LS_link\"] = driver.find_element_by_xpath('//*[@id=\"ContentPlaceHolder1_GR1\"]/tbody/tr['+row+']/td[5]/a[2]').get_attribute('href')\n",
    "        except:\n",
    "            dataframe[\"passed_in_LS_link\"] = ''\n",
    "        dataframe[\"passed_in_RS\"] = driver.find_element_by_xpath('//*[@id=\"ContentPlaceHolder1_GR1\"]/tbody/tr['+row+']/td[6]').text\n",
    "        try:\n",
    "            dataframe[\"referred_to_committee_date\"] = driver.find_element_by_xpath('//*[@id=\"ContentPlaceHolder1_GR1_comdt_0\"]').text\n",
    "        except:\n",
    "            dataframe[\"referred_to_committee_date\"] = ''\n",
    "        try:\n",
    "            dataframe[\"report_presented_date\"] = driver.find_element_by_xpath('//*[@id=\"ContentPlaceHolder1_GR1_HyperLink1_0\"]').text\n",
    "        except:\n",
    "            dataframe[\"report_presented_date\"]  = ''\n",
    "        try:\n",
    "            dataframe[\"report_presented_link\"] = driver.find_element_by_xpath('//*[@id=\"ContentPlaceHolder1_GR1_HyperLink1_0\"]').get_attribute('href')\n",
    "        except:\n",
    "            dataframe[\"report_presented_link\"] = ''\n",
    "        try:\n",
    "            dataframe[\"assent_date\"] = driver.find_element_by_xpath('//*[@id=\"ContentPlaceHolder1_GR1\"]/tbody/tr['+row+']/td[8]').text.splitlines()[0]\n",
    "        except:\n",
    "            dataframe[\"assent_date\"] = ''\n",
    "        try:\n",
    "            dataframe[\"gazette_notification\"] = driver.find_element_by_xpath('//*[@id=\"ContentPlaceHolder1_GR1\"]/tbody/tr['+row+']/td[8]').text.splitlines()[1]\n",
    "        except:\n",
    "            dataframe[\"gazette_notification\"] = ''\n",
    "        try:\n",
    "            dataframe[\"gazette_notification_link\"] = driver.find_element_by_xpath('//*[@id=\"ContentPlaceHolder1_GR1\"]/tbody/tr['+row+']/td[8]/a[2]').get_attribute('href')\n",
    "        except:\n",
    "            dataframe[\"gazette_notification_link\"] = ''\n",
    "        try:\n",
    "            dataframe[\"act_no\"] = driver.find_element_by_xpath('//*[@id=\"ContentPlaceHolder1_GR1\"]/tbody/tr['+row+']/td[8]/a[3]')\n",
    "        except:\n",
    "            dataframe[\"act_no\"] = ''\n",
    "        synopsis_test = driver.find_element_by_xpath('//*[@id=\"ContentPlaceHolder1_GR1\"]/tbody/tr['+row+']/td[9]/a').get_attribute('href')\n",
    "        if synopsis_test!='http://164.100.47.133/BillsPDFFiles/synopsis/':\n",
    "            dataframe[\"synopsis\"] = synopsis_test\n",
    "        else:\n",
    "            dataframe[\"synopsis\"] = ''\n",
    "\n",
    "\n",
    "scrape()"
   ]
  },
  {
   "cell_type": "code",
   "execution_count": 195,
   "metadata": {
    "scrolled": true
   },
   "outputs": [
    {
     "data": {
      "text/plain": [
       "[{'ministry': 'AGRICULTURE',\n",
       "  'bill_status': 'Assented',\n",
       "  'bill_category': 'Ordinary Bill',\n",
       "  'year': '2015',\n",
       "  'billno': 'LXIII',\n",
       "  'title': 'THE DR. RAJENDRA PRASAD CENTRAL AGRICULTURAL UNIVERSITY BILL, 2016',\n",
       "  'As introduced': 'http://164.100.47.4/BillsTexts/RSBillTexts/Asintroduced/rajndr%20univ-int-E.pdf',\n",
       "  'As Passed by Rajyasabha': 'http://164.100.47.4/BillsTexts/RSBillTexts/PassedRajyaSabha/Rajndr%20RSP%2011516-E.pdf',\n",
       "  'As Passed by both Houses': 'http://164.100.47.4/BillsTexts/RSBillTexts/PassedBothHouses/LXIII-F_2015_LS_Eng.pdf',\n",
       "  'date_of_introduction': '23/12/2015',\n",
       "  'house_of_introduction': 'Rajya Sabha',\n",
       "  'passed_in_LS': '11/05/2016',\n",
       "  'passed_in_LS_link': '',\n",
       "  'passed_in_RS': '11/05/2016',\n",
       "  'referred_to_committee_date': '',\n",
       "  'report_presented_date': '',\n",
       "  'report_presented_link': None,\n",
       "  'assent_date': '28/05/2016',\n",
       "  'gazette_notification': '32 of 2016',\n",
       "  'gazette_notification_link': '',\n",
       "  'act_no': '',\n",
       "  'synopsis': ''},\n",
       " {'ministry': 'AGRICULTURE',\n",
       "  'bill_status': 'Assented',\n",
       "  'bill_category': 'Ordinary Bill',\n",
       "  'year': '2012',\n",
       "  'billno': 'X',\n",
       "  'title': 'THE RANI LAKSHMI BAI CENTRAL AGRICULTURAL UNIVERSITY BILL, 2014',\n",
       "  'As introduced': 'http://164.100.47.4/BillsTexts/RSBillTexts/Asintroduced/Rani%20-E.pdf',\n",
       "  'As Passed by both Houses': 'http://164.100.47.4/BillsTexts/RSBillTexts/PassedBothHouses/XF_2012_RS_Eng.pdf',\n",
       "  'पुन: स्थापित रूप में': 'http://164.100.47.4/BillsTexts/RSBillTexts/Hindi/Asintroduced/Rani-%20H.pdf',\n",
       "  'date_of_introduction': '23/12/2015',\n",
       "  'house_of_introduction': 'Rajya Sabha',\n",
       "  'passed_in_LS': '20/02/2014',\n",
       "  'passed_in_LS_link': '',\n",
       "  'passed_in_RS': '19/02/2014',\n",
       "  'referred_to_committee_date': '',\n",
       "  'report_presented_date': '',\n",
       "  'report_presented_link': None,\n",
       "  'assent_date': '04/03/2014',\n",
       "  'gazette_notification': '10 of 2014',\n",
       "  'gazette_notification_link': '',\n",
       "  'act_no': '',\n",
       "  'synopsis': ''},\n",
       " {'ministry': 'AGRICULTURE',\n",
       "  'bill_status': 'Assented',\n",
       "  'bill_category': 'Ordinary Bill',\n",
       "  'year': '2005',\n",
       "  'billno': 'CXXXIII',\n",
       "  'title': 'The Spirituous Preparations (Inter-State Trade and Commerce) Control (Repeal) Bill, 2006',\n",
       "  'date_of_introduction': '23/12/2015',\n",
       "  'house_of_introduction': 'Rajya Sabha',\n",
       "  'passed_in_LS': '03/08/2006',\n",
       "  'passed_in_LS_link': '',\n",
       "  'passed_in_RS': '15/05/2006',\n",
       "  'referred_to_committee_date': '',\n",
       "  'report_presented_date': '',\n",
       "  'report_presented_link': None,\n",
       "  'assent_date': '22/08/2006',\n",
       "  'gazette_notification': '32 of 2006',\n",
       "  'gazette_notification_link': '',\n",
       "  'act_no': '',\n",
       "  'synopsis': ''},\n",
       " {'ministry': 'AGRICULTURE',\n",
       "  'bill_status': 'Assented',\n",
       "  'bill_category': 'Ordinary Bill',\n",
       "  'year': '2005',\n",
       "  'billno': 'CXXVII',\n",
       "  'title': 'THE PREVENTION AND CONTROL OF INFECTIOUS AND CONTAGIOUS DISEASES IN ANIMALS BILL, 2009 ,',\n",
       "  'As Passed by Rajyasabha': 'http://164.100.47.4/BillsTexts/RSBillTexts/PassedRajyaSabha/PREVENTION%20AND%20CONTROL%20%20As%20passed%20RS%20POSTED.pdf',\n",
       "  'As Passed by both Houses': 'http://164.100.47.4/BillsTexts/RSBillTexts/PassedBothHouses/pre%20and%20control.pdf',\n",
       "  'date_of_introduction': '23/12/2015',\n",
       "  'house_of_introduction': 'Rajya Sabha',\n",
       "  'passed_in_LS': '20/02/2009',\n",
       "  'passed_in_LS_link': '',\n",
       "  'passed_in_RS': '16/12/2008',\n",
       "  'referred_to_committee_date': '',\n",
       "  'report_presented_date': '',\n",
       "  'report_presented_link': None,\n",
       "  'assent_date': '20/03/2009',\n",
       "  'gazette_notification': '27 of 2009',\n",
       "  'gazette_notification_link': '',\n",
       "  'act_no': '',\n",
       "  'synopsis': ''},\n",
       " {'ministry': 'AGRICULTURE',\n",
       "  'bill_status': 'Assented',\n",
       "  'bill_category': 'Ordinary Bill',\n",
       "  'year': '2005',\n",
       "  'billno': 'CXXVIII',\n",
       "  'title': 'The Essential Commodities (Amendment) Bill, 2006',\n",
       "  'date_of_introduction': '23/12/2015',\n",
       "  'house_of_introduction': 'Rajya Sabha',\n",
       "  'passed_in_LS': '28/11/2006',\n",
       "  'passed_in_LS_link': '',\n",
       "  'passed_in_RS': '21/08/2006',\n",
       "  'referred_to_committee_date': '',\n",
       "  'report_presented_date': '',\n",
       "  'report_presented_link': None,\n",
       "  'assent_date': '24/12/2006',\n",
       "  'gazette_notification': '54 of 2006',\n",
       "  'gazette_notification_link': '',\n",
       "  'act_no': '',\n",
       "  'synopsis': ''}]"
      ]
     },
     "execution_count": 195,
     "metadata": {},
     "output_type": "execute_result"
    }
   ],
   "source": [
    "list_bills"
   ]
  },
  {
   "cell_type": "code",
   "execution_count": null,
   "metadata": {},
   "outputs": [],
   "source": []
  }
 ],
 "metadata": {
  "kernelspec": {
   "display_name": "Python 3",
   "language": "python",
   "name": "python3"
  },
  "language_info": {
   "codemirror_mode": {
    "name": "ipython",
    "version": 3
   },
   "file_extension": ".py",
   "mimetype": "text/x-python",
   "name": "python",
   "nbconvert_exporter": "python",
   "pygments_lexer": "ipython3",
   "version": "3.6.5"
  }
 },
 "nbformat": 4,
 "nbformat_minor": 2
}
